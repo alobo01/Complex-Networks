{
 "cells": [
  {
   "cell_type": "markdown",
   "metadata": {},
   "source": [
    "# A2 assignment's notebook for Complex Networks at URV 2025"
   ]
  },
  {
   "cell_type": "markdown",
   "metadata": {},
   "source": [
    "## Authors:\n",
    "\n",
    "- Lobo Santos, Antonio\n",
    "-  Kasa, Andras\n"
   ]
  },
  {
   "cell_type": "markdown",
   "metadata": {},
   "source": [
    "## Part 1: Characterization of the community structure of networks with block structure"
   ]
  },
  {
   "cell_type": "code",
   "execution_count": 2,
   "metadata": {},
   "outputs": [],
   "source": [
    "# Import necessary libraries\n",
    "import networkx as nx\n",
    "import numpy as np\n",
    "import matplotlib.pyplot as plt\n",
    "\n",
    "# Set a random seed for reproducibility\n",
    "SEED = 42\n",
    "np.random.seed(SEED)\n"
   ]
  },
  {
   "cell_type": "markdown",
   "metadata": {},
   "source": [
    "#### Define SBM Parameters and Generate the Network\n",
    "\n",
    "We first define our SBM parameters. The network is divided into 5 blocks of equal size. The intra-block connection probability (prr) is set to an example value of 0.16 and the inter-block connection probability (prs) is 0.02. A probability matrix is then built where diagonal entries correspond to `prr` and off-diagonals to `prs`.\n"
   ]
  },
  {
   "cell_type": "code",
   "execution_count": 3,
   "metadata": {},
   "outputs": [
    {
     "name": "stdout",
     "output_type": "stream",
     "text": [
      "SBM Parameters:\n",
      "Total nodes: 300\n",
      "Blocks: 5\n",
      "Block sizes: [60, 60, 60, 60, 60]\n",
      "Intra-block probability (prr): 0.16\n",
      "Inter-block probability (prs): 0.02\n"
     ]
    }
   ],
   "source": [
    "# Define parameters\n",
    "N = 300                   # Total number of nodes\n",
    "nblocks = 5               # Number of blocks\n",
    "block_size = N // nblocks # Equal block sizes\n",
    "prr = 0.16                # Intra-block probability\n",
    "prs = 0.02                # Inter-block probability\n",
    "\n",
    "# Create list of block sizes\n",
    "sizes = [block_size] * nblocks\n",
    "\n",
    "# Create the probability matrix for SBM\n",
    "p_matrix = [[prr if i == j else prs for j in range(nblocks)] for i in range(nblocks)]\n",
    "\n",
    "# Print the parameters for verification\n",
    "print(\"SBM Parameters:\")\n",
    "print(f\"Total nodes: {N}\")\n",
    "print(f\"Blocks: {nblocks}\")\n",
    "print(f\"Block sizes: {sizes}\")\n",
    "print(f\"Intra-block probability (prr): {prr}\")\n",
    "print(f\"Inter-block probability (prs): {prs}\")"
   ]
  },
  {
   "cell_type": "markdown",
   "metadata": {},
   "source": [
    "### Generate the Synthetic SBM Network\n",
    "\n",
    "We now use the `networkx.stochastic_block_model` function to generate our synthetic network with the specified SBM parameters.\n"
   ]
  },
  {
   "cell_type": "code",
   "execution_count": 7,
   "metadata": {},
   "outputs": [
    {
     "name": "stdout",
     "output_type": "stream",
     "text": [
      "Generated SBM Network:\n",
      "Number of nodes: 300\n",
      "Number of edges: 2182\n",
      "Network saved as synthetic_network_N_300_blocks_5_prr_0.16_prs_0.02.net\n"
     ]
    },
    {
     "name": "stderr",
     "output_type": "stream",
     "text": [
      "c:\\Users\\Usuario\\anaconda3\\envs\\CN\\lib\\site-packages\\networkx\\readwrite\\pajek.py:75: UserWarning: Node attribute block is not processed. Non-string attribute.\n",
      "  warnings.warn(\n"
     ]
    }
   ],
   "source": [
    "# Generate the SBM network using NetworkX\n",
    "G = nx.stochastic_block_model(sizes, p_matrix, seed=SEED)\n",
    "\n",
    "# Print some basic information about the generated network\n",
    "print(\"Generated SBM Network:\")\n",
    "print(\"Number of nodes:\", G.number_of_nodes())\n",
    "print(\"Number of edges:\", G.number_of_edges())\n",
    "\n",
    "# Define the filename based on the parameters\n",
    "filename = f\"synthetic_network_N_{N}_blocks_{nblocks}_prr_{prr}_prs_{prs}.net\"\n",
    "\n",
    "# Save the network in Pajek format\n",
    "nx.write_pajek(G, filename)\n",
    "print(f\"Network saved as {filename}\")"
   ]
  },
  {
   "cell_type": "code",
   "execution_count": null,
   "metadata": {},
   "outputs": [],
   "source": []
  }
 ],
 "metadata": {
  "kernelspec": {
   "display_name": "CN",
   "language": "python",
   "name": "python3"
  },
  "language_info": {
   "codemirror_mode": {
    "name": "ipython",
    "version": 3
   },
   "file_extension": ".py",
   "mimetype": "text/x-python",
   "name": "python",
   "nbconvert_exporter": "python",
   "pygments_lexer": "ipython3",
   "version": "3.10.16"
  }
 },
 "nbformat": 4,
 "nbformat_minor": 2
}
